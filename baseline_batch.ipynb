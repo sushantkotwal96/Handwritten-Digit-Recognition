{
  "nbformat": 4,
  "nbformat_minor": 0,
  "metadata": {
    "colab": {
      "name": "baseline-batch.ipynb",
      "provenance": []
    },
    "kernelspec": {
      "name": "python3",
      "display_name": "Python 3"
    },
    "language_info": {
      "name": "python"
    },
    "accelerator": "TPU"
  },
  "cells": [
    {
      "cell_type": "markdown",
      "source": [
        "### The code is continuation of the notebook **baseline.ipynb**"
      ],
      "metadata": {
        "id": "1RA1KCWBt54A"
      }
    },
    {
      "cell_type": "code",
      "execution_count": null,
      "metadata": {
        "id": "1FRRtHuHjE_Q"
      },
      "outputs": [],
      "source": [
        "import torch\n",
        "import torch.nn as nn\n",
        "import torch.optim as optim\n",
        "from torch.autograd import Variable\n",
        "import torch.nn.functional as functional\n",
        "import torchvision.datasets as datasets\n",
        "import torchvision.transforms as transforms\n",
        "from torch.utils.data import DataLoader\n",
        "from torch.utils.data.dataset import Subset\n",
        "\n",
        "\n",
        "import pandas as pd\n",
        "import matplotlib.pyplot as plt\n",
        "#from model import Model\n",
        "import numpy as np"
      ]
    },
    {
      "cell_type": "code",
      "source": [
        "batch_size = 32\n",
        "train_set = datasets.MNIST(root='MNIST_data/', train = True, transform = transforms.ToTensor(), download = True)\n",
        "#train_loader = DataLoader(dataset = train_set, batch_size= batch_size, shuffle = True)\n",
        "\n",
        "\n",
        "#Creating validation set and training sets\n",
        "\n",
        "\n",
        "index = list(range(len(train_set)))\n",
        "\n",
        "#Train Set has size 60000, so we create validation set of size 10%\n",
        "#print(index)\n",
        "np.random.shuffle(index)\n",
        "#print(index)\n",
        "train_split = int(np.floor(0.9*60000))\n",
        "#print(train_split)\n",
        "\n",
        "training_set = Subset(train_set,index[:train_split])\n",
        "validation_set = Subset(train_set,index[train_split:])\n",
        "#print(len(training_set))\n",
        "#print(len(validation_set))\n",
        "\n",
        "training_loader = DataLoader(dataset=training_set,batch_size=batch_size,shuffle=True)\n",
        "validation_loader = DataLoader(dataset=validation_set, batch_size=batch_size,shuffle=True)\n",
        "\n",
        "\n",
        "# Creating test set\n",
        "test_set = datasets.MNIST(root='MNIST_data/', train = False, transform = transforms.ToTensor(), download = True)\n",
        "test_loader = DataLoader(dataset = test_set, batch_size = batch_size, shuffle = True)"
      ],
      "metadata": {
        "id": "xaeymAUajvpY"
      },
      "execution_count": null,
      "outputs": []
    },
    {
      "cell_type": "code",
      "source": [
        "print(\"The size of training set is :\",len(training_set))\n",
        "print(\"The size of validation set is :\",len(validation_set))\n",
        "print(\"The size of testing set is :\",len(test_set))"
      ],
      "metadata": {
        "colab": {
          "base_uri": "https://localhost:8080/"
        },
        "id": "2ZZO1g3Pj-V9",
        "outputId": "0567c29a-17d8-4cff-f500-b7a1ba07650f"
      },
      "execution_count": null,
      "outputs": [
        {
          "output_type": "stream",
          "name": "stdout",
          "text": [
            "The size of training set is : 54000\n",
            "The size of validation set is : 6000\n",
            "The size of testing set is : 10000\n"
          ]
        }
      ]
    },
    {
      "cell_type": "code",
      "source": [
        "dataiter = iter(training_loader)\n",
        "images, labels = dataiter.next()\n",
        "print(images.shape)\n",
        "\n",
        "fig = plt.figure()\n",
        "for i in range(2):\n",
        "  plt.subplot(2,1,i+1)\n",
        "  plt.imshow(images[i].numpy().squeeze(), cmap='gray', interpolation='none')\n",
        "  plt.title(\"Number: {}\".format(labels[i]))\n",
        "  plt.xticks([])\n",
        "  plt.yticks([])"
      ],
      "metadata": {
        "colab": {
          "base_uri": "https://localhost:8080/",
          "height": 286
        },
        "id": "-2ytV4oSkA7u",
        "outputId": "d3e14121-783b-43c6-f0d9-529f76ab9b10"
      },
      "execution_count": null,
      "outputs": [
        {
          "output_type": "stream",
          "name": "stdout",
          "text": [
            "torch.Size([32, 1, 28, 28])\n"
          ]
        },
        {
          "output_type": "display_data",
          "data": {
            "text/plain": [
              "<Figure size 432x288 with 2 Axes>"
            ],
            "image/png": "[encoded data removed]"
          },
          "metadata": {}
        }
      ]
    },
    {
      "cell_type": "code",
      "source": [
        "class CNN_Net(nn.Module):\n",
        "    def __init__(self):\n",
        "        super(CNN_Net,self).__init__()\n",
        "        self.layers1 = nn.Sequential(\n",
        "        nn.Conv2d(1,12,kernel_size=3,stride=1,padding=1),\n",
        "        nn.BatchNorm2d(12),\n",
        "        nn.ReLU(inplace=True),\n",
        "        nn.MaxPool2d(kernel_size=2,stride=2),\n",
        "        #nn.AvgPool2d(kernel_size=2,stride=2),\n",
        "        nn.Conv2d(12,24,kernel_size=3,stride=1,padding=1),\n",
        "        nn.BatchNorm2d(24),\n",
        "        nn.ReLU(inplace=True),\n",
        "        #nn.AvgPool2d(kernel_size=2,stride=2)\n",
        "        nn.MaxPool2d(kernel_size=2,stride=2)\n",
        "      )\n",
        "        self.layers2 = nn.Sequential(\n",
        "          nn.Linear(in_features=24*7*7,out_features=30),\n",
        "          nn.ReLU(),\n",
        "          nn.Linear(in_features=30, out_features=10)\n",
        "      )\n",
        "    \n",
        "    def forward(self,x):\n",
        "        x=self.layers1(x)\n",
        "        x=x.view(x.size(0),-1)\n",
        "        x=self.layers2(x)\n",
        "        return x\n",
        "\n",
        "\n",
        "# Xavier-Glorot initialization of weights  \n",
        "def glorot_weights(m):\n",
        "    if isinstance(m,nn.Conv2d):\n",
        "        nn.init.xavier_normal_(m.weight)\n",
        "        if m.bias is not None:\n",
        "            nn.init.zeros_(m.bias)\n",
        "    elif isinstance(m,nn.Linear):\n",
        "        nn.init.xavier_normal_(m.weight)\n",
        "        nn.init.zeros_(m.bias)"
      ],
      "metadata": {
        "id": "naZfUswkkCoZ"
      },
      "execution_count": null,
      "outputs": []
    },
    {
      "cell_type": "code",
      "source": [
        "model = CNN_Net()\n",
        "model.apply(glorot_weights)\n",
        "loss_func = nn.CrossEntropyLoss()\n",
        "\n",
        "optimizer = optim.SGD(momentum=0.9,lr=0.05,params=model.parameters())\n",
        "\n",
        "lr_scheduler = optim.lr_scheduler.StepLR(optimizer=optimizer , step_size=10, gamma=0.1)"
      ],
      "metadata": {
        "id": "Ug_A1Chrka7t"
      },
      "execution_count": null,
      "outputs": []
    },
    {
      "cell_type": "code",
      "source": [
        "print(\"Training the CNN Model :\")\n",
        "number_of_epochs = 50\n",
        "#train_loss = list()\n",
        "best_epoch = None\n",
        "batch_accuracy =[]\n",
        "\n",
        "\n",
        "batch_validation_accuracy = []\n",
        "previous_loss = 100\n",
        "patience_factor = 3\n",
        "\n",
        "avg_training_loss = []\n",
        "avg_training_accuracy = []\n",
        "\n",
        "avg_validation_loss = []\n",
        "avg_validation_accuracy = []\n",
        "count = 0\n",
        "print(\"Generating a list of Training and Validation accuracies with their losses :\")\n",
        "for epoch in range(number_of_epochs):\n",
        "    training_loss = 0\n",
        "    validation_loss = 0\n",
        "    model.train()\n",
        "    \n",
        "    for i, (x, y) in enumerate(training_loader):\n",
        "        images = Variable(x)\n",
        "        labels = Variable(y)\n",
        "        \n",
        "        optimizer.zero_grad()\n",
        "        \n",
        "        output = model(images)\n",
        "        \n",
        "        loss = loss_func(output, labels)\n",
        "        \n",
        "        training_loss += loss.item()\n",
        "        \n",
        "        loss.backward()\n",
        "        optimizer.step()\n",
        "        \n",
        "        training_prediction = (torch.max(output.data, dim=1)[1] == labels.data)\n",
        "        \n",
        "        batch_accuracy.append(training_prediction.float().mean().item())\n",
        "    avg_training_accuracy.append(np.mean(batch_accuracy))\n",
        "    avg_training_loss.append(training_loss/(i+1))\n",
        "    \n",
        "    model.eval()\n",
        "    \n",
        "    for i, (x, y) in enumerate(validation_loader):\n",
        "        images2 = Variable(x)\n",
        "        labels2 = Variable(y)\n",
        "        \n",
        "        output2 = model(images2)\n",
        "        \n",
        "        loss2 = loss_func(output2, labels2)\n",
        "        \n",
        "        validation_loss += loss2.item()\n",
        "        \n",
        "        validation_prediction = (torch.max(output2.data, dim=1)[1] == labels2.data)\n",
        "        \n",
        "        batch_validation_accuracy.append(validation_prediction.float().mean().item())\n",
        "    \n",
        "    avg_validation_accuracy.append(np.mean(batch_validation_accuracy))\n",
        "\n",
        "        \n",
        "        \n",
        "        \n",
        "    current_validation_loss = validation_loss/(i+1)\n",
        "    avg_validation_loss.append(current_validation_loss)\n",
        "    \n",
        "    \n",
        "    \n",
        "    if current_validation_loss < previous_loss:\n",
        "        count=0\n",
        "        previous_loss = current_validation_loss\n",
        "        best_epoch = epoch\n",
        "        torch.save(model.state_dict(), \"model.dth\")\n",
        "        \n",
        "    else:\n",
        "        count+=1\n",
        "        if count==1:\n",
        "            best_epoch = epoch\n",
        "        if count>=patience_factor:\n",
        "            print(\"Losses for validation data increase from epoch :\",best_epoch)\n",
        "            print(\"Early Stopping takes place at epoch :\",epoch)\n",
        "            break\n",
        "    lr_scheduler.step()\n",
        "  \n",
        "    print(\"\\nEpoch is :\",epoch+1)\n",
        "    print(\"\\nTraining Accuracy :\",avg_training_accuracy)\n",
        "    print(\"\\nTraining Loss :\",avg_training_loss)\n",
        "    \n",
        "    print(\"\\nValidation Accuracy :\",avg_validation_accuracy)\n",
        "    print(\"\\nValidation Loss :\",avg_validation_loss)\n",
        "    \n",
        "print(\"\\nThe average training accuracy is :\",np.mean(avg_training_accuracy))\n",
        "print(\"\\nThe average training loss is :\",np.mean(avg_training_loss))\n",
        "\n",
        "\n",
        "print(\"\\nThe average validation accuracy is :\",np.mean(avg_validation_accuracy))\n",
        "print(\"\\nThe average validation loss is :\",np.mean(avg_validation_loss))"
      ],
      "metadata": {
        "colab": {
          "base_uri": "https://localhost:8080/"
        },
        "id": "GRpMA9YWkxS6",
        "outputId": "e1da8eb8-69e1-4b13-fd37-54aca3e04461"
      },
      "execution_count": null,
      "outputs": [
        {
          "output_type": "stream",
          "name": "stdout",
          "text": [
            "Training the CNN Model :\n",
            "Generating a list of Training and Validation accuracies with their losses :\n",
            "\n",
            "Epoch is : 1\n",
            "\n",
            "Training Accuracy : [0.94921875]\n",
            "\n",
            "Training Loss : [0.16854625335968387]\n",
            "\n",
            "Validation Accuracy : [0.9768949468085106]\n",
            "\n",
            "Validation Loss : [0.07892546265855421]\n",
            "\n",
            "Epoch is : 2\n",
            "\n",
            "Training Accuracy : [0.94921875, 0.9630294727488151]\n",
            "\n",
            "Training Loss : [0.16854625335968387, 0.07922598051939819]\n",
            "\n",
            "Validation Accuracy : [0.9768949468085106, 0.9759807180851063]\n",
            "\n",
            "Validation Loss : [0.07892546265855421, 0.07889632528159826]\n",
            "\n",
            "Epoch is : 3\n",
            "\n",
            "Training Accuracy : [0.94921875, 0.9630294727488151, 0.9699039790679305]\n",
            "\n",
            "Training Loss : [0.16854625335968387, 0.07922598051939819, 0.05598607033904106]\n",
            "\n",
            "Validation Accuracy : [0.9768949468085106, 0.9759807180851063, 0.9787234042553191]\n",
            "\n",
            "Validation Loss : [0.07892546265855421, 0.07889632528159826, 0.05282753636748431]\n",
            "\n",
            "Epoch is : 4\n",
            "\n",
            "Training Accuracy : [0.94921875, 0.9630294727488151, 0.9699039790679305, 0.9733504887440758]\n",
            "\n",
            "Training Loss : [0.16854625335968387, 0.07922598051939819, 0.05598607033904106, 0.0537407195308152]\n",
            "\n",
            "Validation Accuracy : [0.9768949468085106, 0.9759807180851063, 0.9787234042553191, 0.9795129654255319]\n",
            "\n",
            "Validation Loss : [0.07892546265855421, 0.07889632528159826, 0.05282753636748431, 0.0629925093069571]\n",
            "\n",
            "Epoch is : 5\n",
            "\n",
            "Training Accuracy : [0.94921875, 0.9630294727488151, 0.9699039790679305, 0.9733504887440758, 0.9759145438388626]\n",
            "\n",
            "Training Loss : [0.16854625335968387, 0.07922598051939819, 0.05598607033904106, 0.0537407195308152, 0.04776620397464828]\n",
            "\n",
            "Validation Accuracy : [0.9768949468085106, 0.9759807180851063, 0.9787234042553191, 0.9795129654255319, 0.9803523936170213]\n",
            "\n",
            "Validation Loss : [0.07892546265855421, 0.07889632528159826, 0.05282753636748431, 0.0629925093069571, 0.051939732841035834]\n",
            "\n",
            "Epoch is : 6\n",
            "\n",
            "Training Accuracy : [0.94921875, 0.9630294727488151, 0.9699039790679305, 0.9733504887440758, 0.9759145438388626, 0.9778090442338072]\n",
            "\n",
            "Training Loss : [0.16854625335968387, 0.07922598051939819, 0.05598607033904106, 0.0537407195308152, 0.04776620397464828, 0.04120110288396619]\n",
            "\n",
            "Validation Accuracy : [0.9768949468085106, 0.9759807180851063, 0.9787234042553191, 0.9795129654255319, 0.9803523936170213, 0.980967420212766]\n",
            "\n",
            "Validation Loss : [0.07892546265855421, 0.07889632528159826, 0.05282753636748431, 0.0629925093069571, 0.051939732841035834, 0.05063590266740419]\n",
            "\n",
            "Epoch is : 7\n",
            "\n",
            "Training Accuracy : [0.94921875, 0.9630294727488151, 0.9699039790679305, 0.9733504887440758, 0.9759145438388626, 0.9778090442338072, 0.9794082176709547]\n",
            "\n",
            "Training Loss : [0.16854625335968387, 0.07922598051939819, 0.05598607033904106, 0.0537407195308152, 0.04776620397464828, 0.04120110288396619, 0.03657824765549759]\n",
            "\n",
            "Validation Accuracy : [0.9768949468085106, 0.9759807180851063, 0.9787234042553191, 0.9795129654255319, 0.9803523936170213, 0.980967420212766, 0.9815966945288754]\n",
            "\n",
            "Validation Loss : [0.07892546265855421, 0.07889632528159826, 0.05282753636748431, 0.0629925093069571, 0.051939732841035834, 0.05063590266740419, 0.05186754188787048]\n",
            "\n",
            "Epoch is : 8\n",
            "\n",
            "Training Accuracy : [0.94921875, 0.9630294727488151, 0.9699039790679305, 0.9733504887440758, 0.9759145438388626, 0.9778090442338072, 0.9794082176709547, 0.980672393364929]\n",
            "\n",
            "Training Loss : [0.16854625335968387, 0.07922598051939819, 0.05598607033904106, 0.0537407195308152, 0.04776620397464828, 0.04120110288396619, 0.03657824765549759, 0.03464444914433986]\n",
            "\n",
            "Validation Accuracy : [0.9768949468085106, 0.9759807180851063, 0.9787234042553191, 0.9795129654255319, 0.9803523936170213, 0.980967420212766, 0.9815966945288754, 0.9820686502659575]\n",
            "\n",
            "Validation Loss : [0.07892546265855421, 0.07889632528159826, 0.05282753636748431, 0.0629925093069571, 0.051939732841035834, 0.05063590266740419, 0.05186754188787048, 0.048960566646549505]\n",
            "\n",
            "Epoch is : 9\n",
            "\n",
            "Training Accuracy : [0.94921875, 0.9630294727488151, 0.9699039790679305, 0.9733504887440758, 0.9759145438388626, 0.9778090442338072, 0.9794082176709547, 0.980672393364929, 0.9818428284623486]\n",
            "\n",
            "Training Loss : [0.16854625335968387, 0.07922598051939819, 0.05598607033904106, 0.0537407195308152, 0.04776620397464828, 0.04120110288396619, 0.03657824765549759, 0.03464444914433986, 0.03147613146411103]\n",
            "\n",
            "Validation Accuracy : [0.9768949468085106, 0.9759807180851063, 0.9787234042553191, 0.9795129654255319, 0.9803523936170213, 0.980967420212766, 0.9815966945288754, 0.9820686502659575, 0.9825465425531915]\n",
            "\n",
            "Validation Loss : [0.07892546265855421, 0.07889632528159826, 0.05282753636748431, 0.0629925093069571, 0.051939732841035834, 0.05063590266740419, 0.05186754188787048, 0.048960566646549505, 0.05044537390596544]\n",
            "\n",
            "Epoch is : 10\n",
            "\n",
            "Training Accuracy : [0.94921875, 0.9630294727488151, 0.9699039790679305, 0.9733504887440758, 0.9759145438388626, 0.9778090442338072, 0.9794082176709547, 0.980672393364929, 0.9818428284623486, 0.9827514069905213]\n",
            "\n",
            "Training Loss : [0.16854625335968387, 0.07922598051939819, 0.05598607033904106, 0.0537407195308152, 0.04776620397464828, 0.04120110288396619, 0.03657824765549759, 0.03464444914433986, 0.03147613146411103, 0.029991589568542126]\n",
            "\n",
            "Validation Accuracy : [0.9768949468085106, 0.9759807180851063, 0.9787234042553191, 0.9795129654255319, 0.9803523936170213, 0.980967420212766, 0.9815966945288754, 0.9820686502659575, 0.9825465425531915, 0.9829122340425532]\n",
            "\n",
            "Validation Loss : [0.07892546265855421, 0.07889632528159826, 0.05282753636748431, 0.0629925093069571, 0.051939732841035834, 0.05063590266740419, 0.05186754188787048, 0.048960566646549505, 0.05044537390596544, 0.05227688954894009]\n",
            "\n",
            "Epoch is : 11\n",
            "\n",
            "Training Accuracy : [0.94921875, 0.9630294727488151, 0.9699039790679305, 0.9733504887440758, 0.9759145438388626, 0.9778090442338072, 0.9794082176709547, 0.980672393364929, 0.9818428284623486, 0.9827514069905213, 0.9839660302671263]\n",
            "\n",
            "Training Loss : [0.16854625335968387, 0.07922598051939819, 0.05598607033904106, 0.0537407195308152, 0.04776620397464828, 0.04120110288396619, 0.03657824765549759, 0.03464444914433986, 0.03147613146411103, 0.029991589568542126, 0.01201993775530298]\n",
            "\n",
            "Validation Accuracy : [0.9768949468085106, 0.9759807180851063, 0.9787234042553191, 0.9795129654255319, 0.9803523936170213, 0.980967420212766, 0.9815966945288754, 0.9820686502659575, 0.9825465425531915, 0.9829122340425532, 0.9835741054158608]\n",
            "\n",
            "Validation Loss : [0.07892546265855421, 0.07889632528159826, 0.05282753636748431, 0.0629925093069571, 0.051939732841035834, 0.05063590266740419, 0.05186754188787048, 0.048960566646549505, 0.05044537390596544, 0.05227688954894009, 0.03255191613003659]\n",
            "\n",
            "Epoch is : 12\n",
            "\n",
            "Training Accuracy : [0.94921875, 0.9630294727488151, 0.9699039790679305, 0.9733504887440758, 0.9759145438388626, 0.9778090442338072, 0.9794082176709547, 0.980672393364929, 0.9818428284623486, 0.9827514069905213, 0.9839660302671263, 0.9851139785742496]\n",
            "\n",
            "Training Loss : [0.16854625335968387, 0.07922598051939819, 0.05598607033904106, 0.0537407195308152, 0.04776620397464828, 0.04120110288396619, 0.03657824765549759, 0.03464444914433986, 0.03147613146411103, 0.029991589568542126, 0.01201993775530298, 0.008364910153818447]\n",
            "\n",
            "Validation Accuracy : [0.9768949468085106, 0.9759807180851063, 0.9787234042553191, 0.9795129654255319, 0.9803523936170213, 0.980967420212766, 0.9815966945288754, 0.9820686502659575, 0.9825465425531915, 0.9829122340425532, 0.9835741054158608, 0.9840979609929078]\n",
            "\n",
            "Validation Loss : [0.07892546265855421, 0.07889632528159826, 0.05282753636748431, 0.0629925093069571, 0.051939732841035834, 0.05063590266740419, 0.05186754188787048, 0.048960566646549505, 0.05044537390596544, 0.05227688954894009, 0.03255191613003659, 0.03376943792281818]\n",
            "\n",
            "Epoch is : 13\n",
            "\n",
            "Training Accuracy : [0.94921875, 0.9630294727488151, 0.9699039790679305, 0.9733504887440758, 0.9759145438388626, 0.9778090442338072, 0.9794082176709547, 0.980672393364929, 0.9818428284623486, 0.9827514069905213, 0.9839660302671263, 0.9851139785742496, 0.9861152251184834]\n",
            "\n",
            "Training Loss : [0.16854625335968387, 0.07922598051939819, 0.05598607033904106, 0.0537407195308152, 0.04776620397464828, 0.04120110288396619, 0.03657824765549759, 0.03464444914433986, 0.03147613146411103, 0.029991589568542126, 0.01201993775530298, 0.008364910153818447, 0.007278645053790442]\n",
            "\n",
            "Validation Accuracy : [0.9768949468085106, 0.9759807180851063, 0.9787234042553191, 0.9795129654255319, 0.9803523936170213, 0.980967420212766, 0.9815966945288754, 0.9820686502659575, 0.9825465425531915, 0.9829122340425532, 0.9835741054158608, 0.9840979609929078, 0.9845667962356792]\n",
            "\n",
            "Validation Loss : [0.07892546265855421, 0.07889632528159826, 0.05282753636748431, 0.0629925093069571, 0.051939732841035834, 0.05063590266740419, 0.05186754188787048, 0.048960566646549505, 0.05044537390596544, 0.05227688954894009, 0.03255191613003659, 0.03376943792281818, 0.03285816271812187]\n",
            "\n",
            "Epoch is : 14\n",
            "\n",
            "Training Accuracy : [0.94921875, 0.9630294727488151, 0.9699039790679305, 0.9733504887440758, 0.9759145438388626, 0.9778090442338072, 0.9794082176709547, 0.980672393364929, 0.9818428284623486, 0.9827514069905213, 0.9839660302671263, 0.9851139785742496, 0.9861152251184834, 0.9869893047562627]\n",
            "\n",
            "Training Loss : [0.16854625335968387, 0.07922598051939819, 0.05598607033904106, 0.0537407195308152, 0.04776620397464828, 0.04120110288396619, 0.03657824765549759, 0.03464444914433986, 0.03147613146411103, 0.029991589568542126, 0.01201993775530298, 0.008364910153818447, 0.007278645053790442, 0.006463279790441404]\n",
            "\n",
            "Validation Accuracy : [0.9768949468085106, 0.9759807180851063, 0.9787234042553191, 0.9795129654255319, 0.9803523936170213, 0.980967420212766, 0.9815966945288754, 0.9820686502659575, 0.9825465425531915, 0.9829122340425532, 0.9835741054158608, 0.9840979609929078, 0.9845667962356792, 0.9849805281155015]\n",
            "\n",
            "Validation Loss : [0.07892546265855421, 0.07889632528159826, 0.05282753636748431, 0.0629925093069571, 0.051939732841035834, 0.05063590266740419, 0.05186754188787048, 0.048960566646549505, 0.05044537390596544, 0.05227688954894009, 0.03255191613003659, 0.03376943792281818, 0.03285816271812187, 0.032379625386249944]\n",
            "\n",
            "Epoch is : 15\n",
            "\n",
            "Training Accuracy : [0.94921875, 0.9630294727488151, 0.9699039790679305, 0.9733504887440758, 0.9759145438388626, 0.9778090442338072, 0.9794082176709547, 0.980672393364929, 0.9818428284623486, 0.9827514069905213, 0.9839660302671263, 0.9851139785742496, 0.9861152251184834, 0.9869893047562627, 0.98776288507109]\n",
            "\n",
            "Training Loss : [0.16854625335968387, 0.07922598051939819, 0.05598607033904106, 0.0537407195308152, 0.04776620397464828, 0.04120110288396619, 0.03657824765549759, 0.03464444914433986, 0.03147613146411103, 0.029991589568542126, 0.01201993775530298, 0.008364910153818447, 0.007278645053790442, 0.006463279790441404, 0.005920198232374959]\n",
            "\n",
            "Validation Accuracy : [0.9768949468085106, 0.9759807180851063, 0.9787234042553191, 0.9795129654255319, 0.9803523936170213, 0.980967420212766, 0.9815966945288754, 0.9820686502659575, 0.9825465425531915, 0.9829122340425532, 0.9835741054158608, 0.9840979609929078, 0.9845667962356792, 0.9849805281155015, 0.9853612588652483]\n",
            "\n",
            "Validation Loss : [0.07892546265855421, 0.07889632528159826, 0.05282753636748431, 0.0629925093069571, 0.051939732841035834, 0.05063590266740419, 0.05186754188787048, 0.048960566646549505, 0.05044537390596544, 0.05227688954894009, 0.03255191613003659, 0.03376943792281818, 0.03285816271812187, 0.032379625386249944, 0.03431514902414126]\n",
            "\n",
            "Epoch is : 16\n",
            "\n",
            "Training Accuracy : [0.94921875, 0.9630294727488151, 0.9699039790679305, 0.9733504887440758, 0.9759145438388626, 0.9778090442338072, 0.9794082176709547, 0.980672393364929, 0.9818428284623486, 0.9827514069905213, 0.9839660302671263, 0.9851139785742496, 0.9861152251184834, 0.9869893047562627, 0.98776288507109, 0.9884467102340048]\n",
            "\n",
            "Training Loss : [0.16854625335968387, 0.07922598051939819, 0.05598607033904106, 0.0537407195308152, 0.04776620397464828, 0.04120110288396619, 0.03657824765549759, 0.03464444914433986, 0.03147613146411103, 0.029991589568542126, 0.01201993775530298, 0.008364910153818447, 0.007278645053790442, 0.006463279790441404, 0.005920198232374959, 0.005409898134714791]\n",
            "\n",
            "Validation Accuracy : [0.9768949468085106, 0.9759807180851063, 0.9787234042553191, 0.9795129654255319, 0.9803523936170213, 0.980967420212766, 0.9815966945288754, 0.9820686502659575, 0.9825465425531915, 0.9829122340425532, 0.9835741054158608, 0.9840979609929078, 0.9845667962356792, 0.9849805281155015, 0.9853612588652483, 0.9857047872340425]\n",
            "\n",
            "Validation Loss : [0.07892546265855421, 0.07889632528159826, 0.05282753636748431, 0.0629925093069571, 0.051939732841035834, 0.05063590266740419, 0.05186754188787048, 0.048960566646549505, 0.05044537390596544, 0.05227688954894009, 0.03255191613003659, 0.03376943792281818, 0.03285816271812187, 0.032379625386249944, 0.03431514902414126, 0.03482429310869196]\n",
            "Losses for validation data increase from epoch : 14\n",
            "Early Stopping takes place at epoch : 16\n",
            "\n",
            "The average training accuracy is : 0.9789027954426539\n",
            "\n",
            "The average training loss is : 0.037049402321161724\n",
            "\n",
            "The average validation accuracy is : 0.9821064821038507\n",
            "\n",
            "The average validation loss is : 0.04798084126910429\n"
          ]
        }
      ]
    },
    {
      "cell_type": "code",
      "source": [
        "print(\"The curves for losses of training data and validation data are :\")\n",
        "plt.figure(figsize=(20,15))\n",
        "plt.plot(avg_validation_loss,label=\"Validate\")\n",
        "plt.plot(avg_training_loss,label=\"Train\")\n",
        "plt.xlabel('No. of Epochs')\n",
        "plt.ylabel('Accuracy')\n",
        "plt.legend()\n",
        "plt.show()"
      ],
      "metadata": {
        "id": "MhJVewcXlGBh",
        "colab": {
          "base_uri": "https://localhost:8080/",
          "height": 664
        },
        "outputId": "3691f9d1-57b9-4717-9a10-aee45176a397"
      },
      "execution_count": null,
      "outputs": [
        {
          "output_type": "stream",
          "name": "stdout",
          "text": [
            "The curves for losses of training data and validation data are :\n"
          ]
        },
        {
          "output_type": "display_data",
          "data": {
            "text/plain": [
              "<Figure size 1440x1080 with 1 Axes>"
            ],
            "image/png": "[encoded data removed]"
          },
          "metadata": {
            "needs_background": "light"
          }
        }
      ]
    },
    {
      "cell_type": "markdown",
      "source": [
        "In this plot for losses, we see that the losses for training and validation data decrease gradually as we train the model and here we stop when the validation loss start increasing by a patience factor of 3. In this case, we get stop our training at epoch 16 and get our best model before the losses for validation start increasing continously."
      ],
      "metadata": {
        "id": "ycGjnWyguNzd"
      }
    },
    {
      "cell_type": "code",
      "source": [
        "print(\"The curves for accuracy of training data and validation data are :\")\n",
        "plt.figure(figsize=(20,15))\n",
        "plt.plot(avg_validation_accuracy,label=\"Validate\")\n",
        "plt.plot(avg_training_accuracy,label=\"Train\")\n",
        "plt.xlabel('No. of Epochs')\n",
        "plt.ylabel('Accuracy')\n",
        "plt.legend()\n",
        "plt.show()"
      ],
      "metadata": {
        "id": "kkslg5_qlNIS",
        "colab": {
          "base_uri": "https://localhost:8080/",
          "height": 661
        },
        "outputId": "82ad25d6-1d70-40a9-881d-e2b396ac93a9"
      },
      "execution_count": null,
      "outputs": [
        {
          "output_type": "stream",
          "name": "stdout",
          "text": [
            "The curves for accuracy of training data and validation data are :\n"
          ]
        },
        {
          "output_type": "display_data",
          "data": {
            "text/plain": [
              "<Figure size 1440x1080 with 1 Axes>"
            ],
            "image/png": "[encoded data removed]"
          },
          "metadata": {
            "needs_background": "light"
          }
        }
      ]
    },
    {
      "cell_type": "markdown",
      "source": [
        "In the above plot for accuracy, we see that accuracies for both the training data and validation data increase gradually as the number of epochs increase. The validation accuracy dips after 1st eopch but increases thereafter. When the training is stopped, we see that accuracies for training and validation set have crossed 98%"
      ],
      "metadata": {
        "id": "NSoHudwCu15K"
      }
    },
    {
      "cell_type": "code",
      "source": [
        "print(\"Testing CNN Model:\")\n",
        "model.eval()\n",
        "test_accuracy = 0\n",
        "batch_test_accuracy = []\n",
        "#avg_testing_accuracy = []\n",
        "test_confusion_matrix = torch.zeros(10,  10)\n",
        "for i , (x,y) in enumerate(test_loader):\n",
        "    images3 = Variable(x)\n",
        "    labels3 = Variable(y)\n",
        "    \n",
        "    output3 = model(images3)\n",
        "    _, preds = torch.max(output3, 1)\n",
        "    for t, p in zip(labels3.view(-1), preds.view(-1)):\n",
        "                test_confusion_matrix[t.long(), p.long()] += 1\n",
        "    #predictions = torch.cat((predictions,output3),dim=0)\n",
        "    test_prediction = (torch.max(output3.data, dim=1)[1] == labels3.data)\n",
        "        \n",
        "    batch_test_accuracy.append(test_prediction.float().mean().item())\n",
        "    \n",
        "avg_test_accuracy = np.mean(batch_test_accuracy)\n",
        "\n",
        "#print(batch_test_accuracy)\n",
        "print(\"\\nThe accuracy after testing the CNN model is :\",avg_test_accuracy)\n",
        "print(\"\\nThe confusion matrix for test dataset is :\")\n",
        "\n",
        "class_names = [\"0\",\"1\",\"2\",\"3\",\"4\",\"5\",\"6\",\"7\",\"8\",\"9\"]\n",
        "test_confusion_matrix = pd.DataFrame(data=test_confusion_matrix,index=class_names,columns=class_names).astype(int)\n",
        "print(test_confusion_matrix)"
      ],
      "metadata": {
        "id": "8CgSY-qzlNpf",
        "colab": {
          "base_uri": "https://localhost:8080/"
        },
        "outputId": "6fe2003a-db77-438d-f2da-bd0a55620f4d"
      },
      "execution_count": null,
      "outputs": [
        {
          "output_type": "stream",
          "name": "stdout",
          "text": [
            "Testing CNN Model:\n",
            "\n",
            "The accuracy after testing the CNN model is : 0.9895167731629393\n",
            "\n",
            "The confusion matrix for test dataset is :\n",
            "     0     1     2     3    4    5    6     7    8    9\n",
            "0  977     0     0     0    0    0    1     1    1    0\n",
            "1    0  1130     1     1    0    0    1     1    1    0\n",
            "2    2     0  1020     3    0    0    1     5    1    0\n",
            "3    0     0     0  1003    0    5    0     1    1    0\n",
            "4    0     0     0     0  973    0    0     1    3    5\n",
            "5    2     0     0     2    1  884    1     0    1    1\n",
            "6    3     1     0     0    0    4  947     0    3    0\n",
            "7    0     5     7     0    0    0    0  1013    0    3\n",
            "8    4     0     2     0    0    1    0     0  965    2\n",
            "9    1     2     1     1    3    5    0     8    5  983\n"
          ]
        }
      ]
    },
    {
      "cell_type": "markdown",
      "source": [
        "In this file, we implemented Batch Normalization in our CNN architecture. Basically we added batch normalization after every convolution layer in our model. This technique is used to make the model training process more stable and faster. Here the mean and vaiance are internally computed. For this model, we keep rest of the architecture same i.e. weights initialization and learning rate. Using early stopping, we prevent overfitting our model and using the saved best model we run it for the testing dataset.\n",
        "Using our model, we get a test accuracy of 98.95 i.e. almost 99% which is extremely accurate. From the above learning curves for loss and accuracy, we see that the graph fits reasonably well."
      ],
      "metadata": {
        "id": "bMykqsAcvcXV"
      }
    },
    {
      "cell_type": "markdown",
      "source": [
        "### References Used:\n",
        "1. https://towardsdatascience.com/batch-normalization-in-3-levels-of-understanding-14c2da90a338"
      ],
      "metadata": {
        "id": "fWt1kH_HxIJg"
      }
    },
    {
      "cell_type": "code",
      "source": [
        ""
      ],
      "metadata": {
        "id": "VQIYgGtTlSxo"
      },
      "execution_count": null,
      "outputs": []
    }
  ]
}